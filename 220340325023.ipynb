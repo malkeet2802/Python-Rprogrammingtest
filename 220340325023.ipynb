{
  "nbformat": 4,
  "nbformat_minor": 0,
  "metadata": {
    "colab": {
      "name": "Endlabexam.ipynb",
      "provenance": [],
      "collapsed_sections": []
    },
    "kernelspec": {
      "name": "python3",
      "display_name": "Python 3"
    },
    "language_info": {
      "name": "python"
    }
  },
  "cells": [
    {
      "cell_type": "markdown",
      "source": [
        "**Q.1) Convert given hrs & mins in second**"
      ],
      "metadata": {
        "id": "guZdogCZkwd-"
      }
    },
    {
      "cell_type": "code",
      "source": [
        "hr=int(input(\"Enter number of hrs\"))\n",
        "seconds1=hr*60*60\n",
        "mins=int(input(\"Enter number of minutes\"))\n",
        "seconds2=mins*60\n",
        "\n",
        "total_seconds=seconds1+seconds2\n",
        "print(\"Total seconds in\",hr,\"hrs and\",mins,\"mins are\",total_seconds)"
      ],
      "metadata": {
        "colab": {
          "base_uri": "https://localhost:8080/"
        },
        "id": "_qqC-SbIkyq0",
        "outputId": "04483cae-c0fd-495a-a721-b8a291f17af0"
      },
      "execution_count": 1,
      "outputs": [
        {
          "output_type": "stream",
          "name": "stdout",
          "text": [
            "Enter number of hrs3\n",
            "Enter number of minutes25\n",
            "Total seconds in 3 hrs and 25 mins are 12300\n"
          ]
        }
      ]
    },
    {
      "cell_type": "markdown",
      "source": [
        "Q.3) Print\n",
        "![image.png](data:image/png;base64,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)"
      ],
      "metadata": {
        "id": "9BfvdPpnmF8I"
      }
    },
    {
      "cell_type": "code",
      "execution_count": 10,
      "metadata": {
        "colab": {
          "base_uri": "https://localhost:8080/"
        },
        "id": "8apSUjF5kmj9",
        "outputId": "8d9b28f0-80bc-4cee-f1ea-608659101ee2"
      },
      "outputs": [
        {
          "output_type": "stream",
          "name": "stdout",
          "text": [
            "Output\n",
            "1\n",
            "01\n",
            "010\n",
            "1010\n",
            "10101\n"
          ]
        }
      ],
      "source": [
        "print(\"Output\")\n",
        "k=0\n",
        "for i in range(1,6):\n",
        "  for j in range(1,i+1):\n",
        "    k+=1\n",
        "    print(k%2,end=\"\")\n",
        "  print()"
      ]
    },
    {
      "cell_type": "markdown",
      "source": [
        "**Q.2) Write code to find the average of ‘n’\n",
        "numbers entered by the user to function avg ( ).\n",
        "Ex: avg (10, 20, 30, 40) => average is: 70\n",
        "avg (5, 10, 15) => average is: 10**"
      ],
      "metadata": {
        "id": "Im5DtYqWno46"
      }
    },
    {
      "cell_type": "code",
      "source": [
        "def Average(*a):\n",
        "  sum=0\n",
        "  for i in a:\n",
        "    sum=sum+i\n",
        "  avg=sum/len(a)\n",
        "\n",
        "  print(\"Average of number is :- \",avg)  "
      ],
      "metadata": {
        "id": "iib1GuKmmk7h"
      },
      "execution_count": 75,
      "outputs": []
    },
    {
      "cell_type": "code",
      "source": [
        "Average(10,20,30)"
      ],
      "metadata": {
        "colab": {
          "base_uri": "https://localhost:8080/"
        },
        "id": "T-mMZ7_Tn8xI",
        "outputId": "7790a258-5423-48bd-f745-b884a300d4bc"
      },
      "execution_count": 77,
      "outputs": [
        {
          "output_type": "stream",
          "name": "stdout",
          "text": [
            "Average of number is :-  20.0\n"
          ]
        }
      ]
    },
    {
      "cell_type": "markdown",
      "source": [
        "**Q.9) Accept String & print only alternate\n",
        "characters on a string.\n",
        "Ex: this i s a _ test**"
      ],
      "metadata": {
        "id": "g790nvo6pXtP"
      }
    },
    {
      "cell_type": "code",
      "source": [
        "a=\"This is a test\"\n",
        "b=a[1:len(a)+1:2]\n",
        "print(b)"
      ],
      "metadata": {
        "colab": {
          "base_uri": "https://localhost:8080/"
        },
        "id": "jirR6Y-eonAf",
        "outputId": "697b754c-f5bb-4f55-da93-e2bdf4200e14"
      },
      "execution_count": 23,
      "outputs": [
        {
          "output_type": "stream",
          "name": "stdout",
          "text": [
            "hsi  et\n"
          ]
        }
      ]
    },
    {
      "cell_type": "markdown",
      "source": [
        "**Q.10) Create menu driven code for\n",
        "1) Accept 2 numbers\n",
        "2) Add\n",
        "3) Sub\n",
        "4) Mul\n",
        "5) Div\n",
        "6) Exit\n",
        "—--------------------------------------------------------------------------------------**"
      ],
      "metadata": {
        "id": "a5GT3vnaq1am"
      }
    },
    {
      "cell_type": "code",
      "source": [
        "n1=float(input(\"Enter First number\"))\n",
        "n2=float(input(\"Enter second number\"))\n",
        "print(\"Choose a number corresponding to operation to be done from below menu\")\n",
        "print(\"Enter 1 to Add number\")\n",
        "print(\"Enter 2 to Subract number\")\n",
        "print(\"Enter 3 to Multiplty number\")\n",
        "print(\"Enter 4 to Divide number\")\n",
        "\n",
        "c=int(input(\"Enter your choice of operation\"))\n",
        "print()\n",
        "\n",
        "if c==1:\n",
        "  print(\"Addition of two numbers is:- \",(n1+n2))\n",
        "elif c==2:\n",
        "  print(\"Difference of two number is:- \",n1-n2)\n",
        "elif c==3:\n",
        "  print(\"Product of Two number is:- \",n1*n2)\n",
        "elif c==4:\n",
        "  print(\"Division of two number is :- \",n1/n2)\n",
        "else:\n",
        "  print(\"Enter Valid input\")  \n"
      ],
      "metadata": {
        "colab": {
          "base_uri": "https://localhost:8080/"
        },
        "id": "viAzWD1gqY1m",
        "outputId": "8575066b-8917-4b9e-88fe-68975b58eae8"
      },
      "execution_count": 31,
      "outputs": [
        {
          "output_type": "stream",
          "name": "stdout",
          "text": [
            "Enter First number100\n",
            "Enter second number4\n",
            "Choose a number corresponding to operation to be done from below menu\n",
            "Enter 1 to Add number\n",
            "Enter 2 to Subract number\n",
            "Enter 3 to Multiplty number\n",
            "Enter 4 to Divide number\n",
            "Enter your choice of operation3\n",
            "\n",
            "Product of Two number is:-  400.0\n"
          ]
        }
      ]
    },
    {
      "cell_type": "markdown",
      "source": [
        "**Q.7) Convert Paise in Rupees & Paises Ex: 350 is 3 Rupees 50 Paise 3.50 print Rupees: 3 Paise: 50**"
      ],
      "metadata": {
        "id": "wgaSj22FtXJ7"
      }
    },
    {
      "cell_type": "code",
      "source": [
        "p=int(input(\"Enter Paise\"))\n",
        "\n",
        "a=p//100\n",
        "b=p-a*100\n",
        "\n",
        "print(p,\"paise is\",a,\"Rupees and\",b,\"paise\")"
      ],
      "metadata": {
        "colab": {
          "base_uri": "https://localhost:8080/"
        },
        "id": "LGpHrsRDsvfv",
        "outputId": "a1c10b83-bd39-41f6-dcd5-4e842549e0e2"
      },
      "execution_count": 33,
      "outputs": [
        {
          "output_type": "stream",
          "name": "stdout",
          "text": [
            "Enter Paise532\n",
            "532 paise is 5 Rupees and 32 paise\n"
          ]
        }
      ]
    },
    {
      "cell_type": "markdown",
      "source": [
        "**Q.6) Read file & count numbers of digit\n",
        "alphabets & symbols\n",
        "(hint one can compare using ‘a’ < digit <\n",
        "‘z‘.**"
      ],
      "metadata": {
        "id": "sV4UUBGLueSa"
      }
    },
    {
      "cell_type": "code",
      "source": [
        ""
      ],
      "metadata": {
        "colab": {
          "base_uri": "https://localhost:8080/"
        },
        "id": "AFhozDkFuBef",
        "outputId": "8ed6e8d5-592e-4634-ce94-b48d59bf4080"
      },
      "execution_count": 40,
      "outputs": [
        {
          "output_type": "stream",
          "name": "stdout",
          "text": [
            "49\n"
          ]
        }
      ]
    },
    {
      "cell_type": "markdown",
      "source": [
        "**Q.5) Create class\n",
        "![image.png](data:image/png;base64,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)"
      ],
      "metadata": {
        "id": "Amn7tEa-vFm7"
      }
    },
    {
      "cell_type": "code",
      "source": [
        "class Math():\n",
        "  def Setdata(self,a,b):\n",
        "    self.n1=a\n",
        "    self.n2=b\n",
        "  def Add(self):\n",
        "    return self.n1+self.n2\n",
        "  def Div(self):\n",
        "    return self.n1/self.n2\n",
        "  def Sub(self):\n",
        "    return self.n1-self.n2\n",
        "  def Mul(self):\n",
        "    return self.n1*self.n2"
      ],
      "metadata": {
        "id": "zBZi9Ry3uqDt"
      },
      "execution_count": 50,
      "outputs": []
    },
    {
      "cell_type": "code",
      "source": [
        "m=Math()"
      ],
      "metadata": {
        "id": "GH-_-dc7v4ZC"
      },
      "execution_count": 51,
      "outputs": []
    },
    {
      "cell_type": "code",
      "source": [
        "m.Setdata(12,13)"
      ],
      "metadata": {
        "id": "ar4Ev8pCv8Ql"
      },
      "execution_count": 52,
      "outputs": []
    },
    {
      "cell_type": "code",
      "source": [
        "m.Add()"
      ],
      "metadata": {
        "colab": {
          "base_uri": "https://localhost:8080/"
        },
        "id": "LB0HgPqswCmJ",
        "outputId": "56c025aa-6207-46b6-fab4-523bfeeff70c"
      },
      "execution_count": 53,
      "outputs": [
        {
          "output_type": "execute_result",
          "data": {
            "text/plain": [
              "25"
            ]
          },
          "metadata": {},
          "execution_count": 53
        }
      ]
    },
    {
      "cell_type": "code",
      "source": [
        "m.Div()"
      ],
      "metadata": {
        "colab": {
          "base_uri": "https://localhost:8080/"
        },
        "id": "UTzgZ1EzwHd8",
        "outputId": "420ae5f2-0940-4ce5-fed9-5f79b3b01d4c"
      },
      "execution_count": 54,
      "outputs": [
        {
          "output_type": "execute_result",
          "data": {
            "text/plain": [
              "0.9230769230769231"
            ]
          },
          "metadata": {},
          "execution_count": 54
        }
      ]
    },
    {
      "cell_type": "code",
      "source": [
        "m.Sub()"
      ],
      "metadata": {
        "colab": {
          "base_uri": "https://localhost:8080/"
        },
        "id": "1jO-XQ9CwJ5U",
        "outputId": "c5c11ba0-0a69-49f2-a124-8e030fefe999"
      },
      "execution_count": 55,
      "outputs": [
        {
          "output_type": "execute_result",
          "data": {
            "text/plain": [
              "-1"
            ]
          },
          "metadata": {},
          "execution_count": 55
        }
      ]
    },
    {
      "cell_type": "code",
      "source": [
        "m.Mul()"
      ],
      "metadata": {
        "colab": {
          "base_uri": "https://localhost:8080/"
        },
        "id": "aAw8RknPwMcv",
        "outputId": "a858cde6-07ea-4db9-d815-50be53fc0adf"
      },
      "execution_count": 56,
      "outputs": [
        {
          "output_type": "execute_result",
          "data": {
            "text/plain": [
              "156"
            ]
          },
          "metadata": {},
          "execution_count": 56
        }
      ]
    },
    {
      "cell_type": "code",
      "source": [
        ""
      ],
      "metadata": {
        "id": "XyfW2oDdwUz1"
      },
      "execution_count": null,
      "outputs": []
    }
  ]
}